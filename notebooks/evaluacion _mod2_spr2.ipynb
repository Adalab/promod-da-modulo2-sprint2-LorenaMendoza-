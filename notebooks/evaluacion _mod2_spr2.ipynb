{
 "cells": [
  {
   "attachments": {},
   "cell_type": "markdown",
   "metadata": {},
   "source": [
    "#### EVALUACIÓN MODULO 2 - SPRINT 2"
   ]
  },
  {
   "cell_type": "code",
   "execution_count": 1,
   "metadata": {},
   "outputs": [],
   "source": [
    "from IPython.core.interactiveshell import InteractiveShell # Nos permite mostar más de una salida por celda\n",
    "InteractiveShell.ast_node_interactivity = \"all\" # Nos permite mostar más de una salida por celda\n",
    "\n",
    "import requests\n",
    "import pandas as pd\n",
    "import numpy as np\n",
    "import mysql.connector\n",
    "from geopy.geocoders import Nominatim"
   ]
  },
  {
   "attachments": {},
   "cell_type": "markdown",
   "metadata": {},
   "source": [
    "1. Utilizando la API extraed toda la información que podáis de ella. La url para hacer las llamadas es:\n",
    "\n",
    "API_URL = \"http://universities.hipolabs.com/search?country=NOMBREPAIS\""
   ]
  },
  {
   "cell_type": "code",
   "execution_count": 2,
   "metadata": {},
   "outputs": [],
   "source": [
    "class Extraccion:\n",
    "\n",
    "    def __init__(self):\n",
    "\n",
    "        self = self\n",
    "    \n",
    "    def llamada_api(self, pais):\n",
    "\n",
    "        self.pais = pais\n",
    "        \n",
    "        lista_pais = ['Argentina', 'Canada', 'United States']        \n",
    "\n",
    "        if pais not in lista_pais:\n",
    "            \n",
    "            return \"No es posible extraer información del país que solicita\"\n",
    "\n",
    "        else:\n",
    "\n",
    "            response = requests.get(f'http://universities.hipolabs.com/search?country={pais}')\n",
    "\n",
    "            response.status_code\n",
    "\n",
    "            response.reason\n",
    "\n",
    "            df_pais = pd.json_normalize(response.json())\n",
    "        \n",
    "            return df_pais\n",
    "        \n",
    "\n",
    "    def union_dataframe(self, lista_dataframes):\n",
    "        self.lista_dataframes = lista_dataframes\n",
    "        \n",
    "        df_unido = pd.concat(lista_dataframes, axis= 0, join = 'outer')\n",
    "        return df_unido\n",
    "      "
   ]
  },
  {
   "cell_type": "code",
   "execution_count": 3,
   "metadata": {},
   "outputs": [],
   "source": [
    "api = Extraccion()"
   ]
  },
  {
   "cell_type": "code",
   "execution_count": 4,
   "metadata": {},
   "outputs": [
    {
     "data": {
      "text/html": [
       "<div>\n",
       "<style scoped>\n",
       "    .dataframe tbody tr th:only-of-type {\n",
       "        vertical-align: middle;\n",
       "    }\n",
       "\n",
       "    .dataframe tbody tr th {\n",
       "        vertical-align: top;\n",
       "    }\n",
       "\n",
       "    .dataframe thead th {\n",
       "        text-align: right;\n",
       "    }\n",
       "</style>\n",
       "<table border=\"1\" class=\"dataframe\">\n",
       "  <thead>\n",
       "    <tr style=\"text-align: right;\">\n",
       "      <th></th>\n",
       "      <th>state-province</th>\n",
       "      <th>domains</th>\n",
       "      <th>name</th>\n",
       "      <th>country</th>\n",
       "      <th>web_pages</th>\n",
       "      <th>alpha_two_code</th>\n",
       "    </tr>\n",
       "  </thead>\n",
       "  <tbody>\n",
       "    <tr>\n",
       "      <th>0</th>\n",
       "      <td>Buenos Aires</td>\n",
       "      <td>[atlantida.edu.ar]</td>\n",
       "      <td>Universidad Atlantida Argentina</td>\n",
       "      <td>Argentina</td>\n",
       "      <td>[http://www.atlantida.edu.ar/]</td>\n",
       "      <td>AR</td>\n",
       "    </tr>\n",
       "    <tr>\n",
       "      <th>1</th>\n",
       "      <td>Buenos Aires</td>\n",
       "      <td>[austral.edu.ar]</td>\n",
       "      <td>Universidad Austral Buenos Aires</td>\n",
       "      <td>Argentina</td>\n",
       "      <td>[http://www.austral.edu.ar/]</td>\n",
       "      <td>AR</td>\n",
       "    </tr>\n",
       "    <tr>\n",
       "      <th>2</th>\n",
       "      <td>Ciudad Autónoma de Buenos Aires</td>\n",
       "      <td>[caece.edu.ar]</td>\n",
       "      <td>Universidad CAECE, Buenos Aires</td>\n",
       "      <td>Argentina</td>\n",
       "      <td>[http://www.caece.edu.ar/]</td>\n",
       "      <td>AR</td>\n",
       "    </tr>\n",
       "    <tr>\n",
       "      <th>3</th>\n",
       "      <td>Ciudad Autónoma de Buenos Aires</td>\n",
       "      <td>[cema.edu.ar]</td>\n",
       "      <td>Instituto Universitario CEMA</td>\n",
       "      <td>Argentina</td>\n",
       "      <td>[http://www.cema.edu.ar/]</td>\n",
       "      <td>AR</td>\n",
       "    </tr>\n",
       "    <tr>\n",
       "      <th>4</th>\n",
       "      <td>Ciudad Autónoma de Buenos Aires</td>\n",
       "      <td>[iese.edu.ar]</td>\n",
       "      <td>Instituto de Enseñanza Superior del Ejército</td>\n",
       "      <td>Argentina</td>\n",
       "      <td>[http://www.iese.edu.ar/]</td>\n",
       "      <td>AR</td>\n",
       "    </tr>\n",
       "  </tbody>\n",
       "</table>\n",
       "</div>"
      ],
      "text/plain": [
       "                    state-province             domains  \\\n",
       "0                     Buenos Aires  [atlantida.edu.ar]   \n",
       "1                     Buenos Aires    [austral.edu.ar]   \n",
       "2  Ciudad Autónoma de Buenos Aires      [caece.edu.ar]   \n",
       "3  Ciudad Autónoma de Buenos Aires       [cema.edu.ar]   \n",
       "4  Ciudad Autónoma de Buenos Aires       [iese.edu.ar]   \n",
       "\n",
       "                                           name    country  \\\n",
       "0               Universidad Atlantida Argentina  Argentina   \n",
       "1              Universidad Austral Buenos Aires  Argentina   \n",
       "2               Universidad CAECE, Buenos Aires  Argentina   \n",
       "3                  Instituto Universitario CEMA  Argentina   \n",
       "4  Instituto de Enseñanza Superior del Ejército  Argentina   \n",
       "\n",
       "                        web_pages alpha_two_code  \n",
       "0  [http://www.atlantida.edu.ar/]             AR  \n",
       "1    [http://www.austral.edu.ar/]             AR  \n",
       "2      [http://www.caece.edu.ar/]             AR  \n",
       "3       [http://www.cema.edu.ar/]             AR  \n",
       "4       [http://www.iese.edu.ar/]             AR  "
      ]
     },
     "execution_count": 4,
     "metadata": {},
     "output_type": "execute_result"
    }
   ],
   "source": [
    "df_argentina = api.llamada_api(\"Argentina\")\n",
    "df_argentina.head()"
   ]
  },
  {
   "cell_type": "code",
   "execution_count": 5,
   "metadata": {},
   "outputs": [
    {
     "data": {
      "text/html": [
       "<div>\n",
       "<style scoped>\n",
       "    .dataframe tbody tr th:only-of-type {\n",
       "        vertical-align: middle;\n",
       "    }\n",
       "\n",
       "    .dataframe tbody tr th {\n",
       "        vertical-align: top;\n",
       "    }\n",
       "\n",
       "    .dataframe thead th {\n",
       "        text-align: right;\n",
       "    }\n",
       "</style>\n",
       "<table border=\"1\" class=\"dataframe\">\n",
       "  <thead>\n",
       "    <tr style=\"text-align: right;\">\n",
       "      <th></th>\n",
       "      <th>state-province</th>\n",
       "      <th>domains</th>\n",
       "      <th>name</th>\n",
       "      <th>country</th>\n",
       "      <th>web_pages</th>\n",
       "      <th>alpha_two_code</th>\n",
       "    </tr>\n",
       "  </thead>\n",
       "  <tbody>\n",
       "    <tr>\n",
       "      <th>0</th>\n",
       "      <td>None</td>\n",
       "      <td>[marywood.edu]</td>\n",
       "      <td>Marywood University</td>\n",
       "      <td>United States</td>\n",
       "      <td>[http://www.marywood.edu]</td>\n",
       "      <td>US</td>\n",
       "    </tr>\n",
       "    <tr>\n",
       "      <th>1</th>\n",
       "      <td>None</td>\n",
       "      <td>[lindenwood.edu]</td>\n",
       "      <td>Lindenwood University</td>\n",
       "      <td>United States</td>\n",
       "      <td>[http://www.lindenwood.edu/]</td>\n",
       "      <td>US</td>\n",
       "    </tr>\n",
       "    <tr>\n",
       "      <th>2</th>\n",
       "      <td>None</td>\n",
       "      <td>[sullivan.edu]</td>\n",
       "      <td>Sullivan University</td>\n",
       "      <td>United States</td>\n",
       "      <td>[https://sullivan.edu/]</td>\n",
       "      <td>US</td>\n",
       "    </tr>\n",
       "    <tr>\n",
       "      <th>3</th>\n",
       "      <td>None</td>\n",
       "      <td>[fscj.edu]</td>\n",
       "      <td>Florida State College at Jacksonville</td>\n",
       "      <td>United States</td>\n",
       "      <td>[https://www.fscj.edu/]</td>\n",
       "      <td>US</td>\n",
       "    </tr>\n",
       "    <tr>\n",
       "      <th>4</th>\n",
       "      <td>None</td>\n",
       "      <td>[xavier.edu]</td>\n",
       "      <td>Xavier University</td>\n",
       "      <td>United States</td>\n",
       "      <td>[https://www.xavier.edu/]</td>\n",
       "      <td>US</td>\n",
       "    </tr>\n",
       "  </tbody>\n",
       "</table>\n",
       "</div>"
      ],
      "text/plain": [
       "  state-province           domains                                   name  \\\n",
       "0           None    [marywood.edu]                    Marywood University   \n",
       "1           None  [lindenwood.edu]                  Lindenwood University   \n",
       "2           None    [sullivan.edu]                    Sullivan University   \n",
       "3           None        [fscj.edu]  Florida State College at Jacksonville   \n",
       "4           None      [xavier.edu]                      Xavier University   \n",
       "\n",
       "         country                     web_pages alpha_two_code  \n",
       "0  United States     [http://www.marywood.edu]             US  \n",
       "1  United States  [http://www.lindenwood.edu/]             US  \n",
       "2  United States       [https://sullivan.edu/]             US  \n",
       "3  United States       [https://www.fscj.edu/]             US  \n",
       "4  United States     [https://www.xavier.edu/]             US  "
      ]
     },
     "execution_count": 5,
     "metadata": {},
     "output_type": "execute_result"
    }
   ],
   "source": [
    "df_usa = api.llamada_api(\"United States\")\n",
    "df_usa.head()"
   ]
  },
  {
   "cell_type": "code",
   "execution_count": 6,
   "metadata": {},
   "outputs": [
    {
     "data": {
      "text/html": [
       "<div>\n",
       "<style scoped>\n",
       "    .dataframe tbody tr th:only-of-type {\n",
       "        vertical-align: middle;\n",
       "    }\n",
       "\n",
       "    .dataframe tbody tr th {\n",
       "        vertical-align: top;\n",
       "    }\n",
       "\n",
       "    .dataframe thead th {\n",
       "        text-align: right;\n",
       "    }\n",
       "</style>\n",
       "<table border=\"1\" class=\"dataframe\">\n",
       "  <thead>\n",
       "    <tr style=\"text-align: right;\">\n",
       "      <th></th>\n",
       "      <th>state-province</th>\n",
       "      <th>domains</th>\n",
       "      <th>name</th>\n",
       "      <th>country</th>\n",
       "      <th>web_pages</th>\n",
       "      <th>alpha_two_code</th>\n",
       "    </tr>\n",
       "  </thead>\n",
       "  <tbody>\n",
       "    <tr>\n",
       "      <th>0</th>\n",
       "      <td>Quebec</td>\n",
       "      <td>[cstj.qc.ca]</td>\n",
       "      <td>Cégep de Saint-Jérôme</td>\n",
       "      <td>Canada</td>\n",
       "      <td>[https://www.cstj.qc.ca, https://ccmt.cstj.qc....</td>\n",
       "      <td>CA</td>\n",
       "    </tr>\n",
       "    <tr>\n",
       "      <th>1</th>\n",
       "      <td>Ontario</td>\n",
       "      <td>[lambtoncollege.ca, mylambton.ca]</td>\n",
       "      <td>Lambton College</td>\n",
       "      <td>Canada</td>\n",
       "      <td>[https://www.lambtoncollege.ca]</td>\n",
       "      <td>CA</td>\n",
       "    </tr>\n",
       "    <tr>\n",
       "      <th>2</th>\n",
       "      <td>Nova Scotia</td>\n",
       "      <td>[acadiau.ca]</td>\n",
       "      <td>Acadia University</td>\n",
       "      <td>Canada</td>\n",
       "      <td>[http://www.acadiau.ca/]</td>\n",
       "      <td>CA</td>\n",
       "    </tr>\n",
       "    <tr>\n",
       "      <th>3</th>\n",
       "      <td>Ontario</td>\n",
       "      <td>[algonquincollege.com]</td>\n",
       "      <td>Algonquin College</td>\n",
       "      <td>Canada</td>\n",
       "      <td>[http://www.algonquincollege.com/]</td>\n",
       "      <td>CA</td>\n",
       "    </tr>\n",
       "    <tr>\n",
       "      <th>4</th>\n",
       "      <td>British Columbia</td>\n",
       "      <td>[ashtoncollege.com]</td>\n",
       "      <td>Ashton College</td>\n",
       "      <td>Canada</td>\n",
       "      <td>[http://www.ashtoncollege.com/]</td>\n",
       "      <td>CA</td>\n",
       "    </tr>\n",
       "  </tbody>\n",
       "</table>\n",
       "</div>"
      ],
      "text/plain": [
       "     state-province                            domains                   name  \\\n",
       "0            Quebec                       [cstj.qc.ca]  Cégep de Saint-Jérôme   \n",
       "1           Ontario  [lambtoncollege.ca, mylambton.ca]        Lambton College   \n",
       "2       Nova Scotia                       [acadiau.ca]      Acadia University   \n",
       "3           Ontario             [algonquincollege.com]      Algonquin College   \n",
       "4  British Columbia                [ashtoncollege.com]         Ashton College   \n",
       "\n",
       "  country                                          web_pages alpha_two_code  \n",
       "0  Canada  [https://www.cstj.qc.ca, https://ccmt.cstj.qc....             CA  \n",
       "1  Canada                    [https://www.lambtoncollege.ca]             CA  \n",
       "2  Canada                           [http://www.acadiau.ca/]             CA  \n",
       "3  Canada                 [http://www.algonquincollege.com/]             CA  \n",
       "4  Canada                    [http://www.ashtoncollege.com/]             CA  "
      ]
     },
     "execution_count": 6,
     "metadata": {},
     "output_type": "execute_result"
    }
   ],
   "source": [
    "df_canada = api.llamada_api(\"Canada\")\n",
    "df_canada.head()"
   ]
  },
  {
   "cell_type": "code",
   "execution_count": 7,
   "metadata": {},
   "outputs": [
    {
     "data": {
      "text/plain": [
       "'No es posible extraer información del país que solicita'"
      ]
     },
     "execution_count": 7,
     "metadata": {},
     "output_type": "execute_result"
    }
   ],
   "source": [
    "#Probamos que el código que hemos creado en el método es válido en caso de que se introduzcan otros países que no están contemplados entre los que nosotros estudiamos aquí\n",
    "api.llamada_api(\"Mexico\")"
   ]
  },
  {
   "cell_type": "code",
   "execution_count": 7,
   "metadata": {},
   "outputs": [],
   "source": [
    "lista_df = [df_argentina, df_canada, df_usa]"
   ]
  },
  {
   "cell_type": "code",
   "execution_count": 8,
   "metadata": {},
   "outputs": [
    {
     "data": {
      "text/plain": [
       "(2522, 6)"
      ]
     },
     "execution_count": 8,
     "metadata": {},
     "output_type": "execute_result"
    }
   ],
   "source": [
    "df_unido = api.union_dataframe(lista_df)\n",
    "df_unido.shape"
   ]
  },
  {
   "attachments": {},
   "cell_type": "markdown",
   "metadata": {},
   "source": [
    "2. Una vez tengáis todos los datos de la API, deberéis realizar una serie de procesos de limpieza, estos incluyen:\n",
    "   \n",
    " - Cambiad los nombres de las columnas para homogeneizarlas, tenemos columnas que tienen - y otras _. Unifícalo para que todo vaya con _. \n"
   ]
  },
  {
   "cell_type": "code",
   "execution_count": 9,
   "metadata": {},
   "outputs": [],
   "source": [
    "def cambiar_guion(df):\n",
    "    \"\"\"Función que permite sustituir un guion intermedio \"-\" por uno bajo \"_. Recibe un parámetro,\n",
    "    que es un dataframe.\"\"\"\n",
    "    nuevas_col = {col:col.replace(\"-\", \"_\") for col in df.columns}\n",
    "    df.rename(columns = nuevas_col,inplace = True)\n",
    "    return df"
   ]
  },
  {
   "cell_type": "code",
   "execution_count": 10,
   "metadata": {},
   "outputs": [
    {
     "data": {
      "text/html": [
       "<div>\n",
       "<style scoped>\n",
       "    .dataframe tbody tr th:only-of-type {\n",
       "        vertical-align: middle;\n",
       "    }\n",
       "\n",
       "    .dataframe tbody tr th {\n",
       "        vertical-align: top;\n",
       "    }\n",
       "\n",
       "    .dataframe thead th {\n",
       "        text-align: right;\n",
       "    }\n",
       "</style>\n",
       "<table border=\"1\" class=\"dataframe\">\n",
       "  <thead>\n",
       "    <tr style=\"text-align: right;\">\n",
       "      <th></th>\n",
       "      <th>state_province</th>\n",
       "      <th>domains</th>\n",
       "      <th>name</th>\n",
       "      <th>country</th>\n",
       "      <th>web_pages</th>\n",
       "      <th>alpha_two_code</th>\n",
       "    </tr>\n",
       "  </thead>\n",
       "  <tbody>\n",
       "    <tr>\n",
       "      <th>0</th>\n",
       "      <td>Buenos Aires</td>\n",
       "      <td>[atlantida.edu.ar]</td>\n",
       "      <td>Universidad Atlantida Argentina</td>\n",
       "      <td>Argentina</td>\n",
       "      <td>[http://www.atlantida.edu.ar/]</td>\n",
       "      <td>AR</td>\n",
       "    </tr>\n",
       "    <tr>\n",
       "      <th>1</th>\n",
       "      <td>Buenos Aires</td>\n",
       "      <td>[austral.edu.ar]</td>\n",
       "      <td>Universidad Austral Buenos Aires</td>\n",
       "      <td>Argentina</td>\n",
       "      <td>[http://www.austral.edu.ar/]</td>\n",
       "      <td>AR</td>\n",
       "    </tr>\n",
       "    <tr>\n",
       "      <th>2</th>\n",
       "      <td>Ciudad Autónoma de Buenos Aires</td>\n",
       "      <td>[caece.edu.ar]</td>\n",
       "      <td>Universidad CAECE, Buenos Aires</td>\n",
       "      <td>Argentina</td>\n",
       "      <td>[http://www.caece.edu.ar/]</td>\n",
       "      <td>AR</td>\n",
       "    </tr>\n",
       "    <tr>\n",
       "      <th>3</th>\n",
       "      <td>Ciudad Autónoma de Buenos Aires</td>\n",
       "      <td>[cema.edu.ar]</td>\n",
       "      <td>Instituto Universitario CEMA</td>\n",
       "      <td>Argentina</td>\n",
       "      <td>[http://www.cema.edu.ar/]</td>\n",
       "      <td>AR</td>\n",
       "    </tr>\n",
       "    <tr>\n",
       "      <th>4</th>\n",
       "      <td>Ciudad Autónoma de Buenos Aires</td>\n",
       "      <td>[iese.edu.ar]</td>\n",
       "      <td>Instituto de Enseñanza Superior del Ejército</td>\n",
       "      <td>Argentina</td>\n",
       "      <td>[http://www.iese.edu.ar/]</td>\n",
       "      <td>AR</td>\n",
       "    </tr>\n",
       "    <tr>\n",
       "      <th>...</th>\n",
       "      <td>...</td>\n",
       "      <td>...</td>\n",
       "      <td>...</td>\n",
       "      <td>...</td>\n",
       "      <td>...</td>\n",
       "      <td>...</td>\n",
       "    </tr>\n",
       "    <tr>\n",
       "      <th>2276</th>\n",
       "      <td>None</td>\n",
       "      <td>[vul.edu]</td>\n",
       "      <td>Virginia University of Lynchburg</td>\n",
       "      <td>United States</td>\n",
       "      <td>[https://www.vul.edu/]</td>\n",
       "      <td>US</td>\n",
       "    </tr>\n",
       "    <tr>\n",
       "      <th>2277</th>\n",
       "      <td>None</td>\n",
       "      <td>[voorhees.edu]</td>\n",
       "      <td>Voorhees University</td>\n",
       "      <td>United States</td>\n",
       "      <td>[https://www.voorhees.edu/]</td>\n",
       "      <td>US</td>\n",
       "    </tr>\n",
       "    <tr>\n",
       "      <th>2278</th>\n",
       "      <td>None</td>\n",
       "      <td>[wvstate.edu]</td>\n",
       "      <td>West Virginia State University</td>\n",
       "      <td>United States</td>\n",
       "      <td>[https://www.wvstateu.edu/]</td>\n",
       "      <td>US</td>\n",
       "    </tr>\n",
       "    <tr>\n",
       "      <th>2279</th>\n",
       "      <td>None</td>\n",
       "      <td>[wileyc.edu]</td>\n",
       "      <td>Wiley College</td>\n",
       "      <td>United States</td>\n",
       "      <td>[https://www.wileyc.edu/]</td>\n",
       "      <td>US</td>\n",
       "    </tr>\n",
       "    <tr>\n",
       "      <th>2280</th>\n",
       "      <td>None</td>\n",
       "      <td>[wssu.edu]</td>\n",
       "      <td>Winston-Salem State University</td>\n",
       "      <td>United States</td>\n",
       "      <td>[https://www.wssu.edu/]</td>\n",
       "      <td>US</td>\n",
       "    </tr>\n",
       "  </tbody>\n",
       "</table>\n",
       "<p>2522 rows × 6 columns</p>\n",
       "</div>"
      ],
      "text/plain": [
       "                       state_province             domains  \\\n",
       "0                        Buenos Aires  [atlantida.edu.ar]   \n",
       "1                        Buenos Aires    [austral.edu.ar]   \n",
       "2     Ciudad Autónoma de Buenos Aires      [caece.edu.ar]   \n",
       "3     Ciudad Autónoma de Buenos Aires       [cema.edu.ar]   \n",
       "4     Ciudad Autónoma de Buenos Aires       [iese.edu.ar]   \n",
       "...                               ...                 ...   \n",
       "2276                             None           [vul.edu]   \n",
       "2277                             None      [voorhees.edu]   \n",
       "2278                             None       [wvstate.edu]   \n",
       "2279                             None        [wileyc.edu]   \n",
       "2280                             None          [wssu.edu]   \n",
       "\n",
       "                                              name        country  \\\n",
       "0                  Universidad Atlantida Argentina      Argentina   \n",
       "1                 Universidad Austral Buenos Aires      Argentina   \n",
       "2                  Universidad CAECE, Buenos Aires      Argentina   \n",
       "3                     Instituto Universitario CEMA      Argentina   \n",
       "4     Instituto de Enseñanza Superior del Ejército      Argentina   \n",
       "...                                            ...            ...   \n",
       "2276              Virginia University of Lynchburg  United States   \n",
       "2277                           Voorhees University  United States   \n",
       "2278                West Virginia State University  United States   \n",
       "2279                                 Wiley College  United States   \n",
       "2280                Winston-Salem State University  United States   \n",
       "\n",
       "                           web_pages alpha_two_code  \n",
       "0     [http://www.atlantida.edu.ar/]             AR  \n",
       "1       [http://www.austral.edu.ar/]             AR  \n",
       "2         [http://www.caece.edu.ar/]             AR  \n",
       "3          [http://www.cema.edu.ar/]             AR  \n",
       "4          [http://www.iese.edu.ar/]             AR  \n",
       "...                              ...            ...  \n",
       "2276          [https://www.vul.edu/]             US  \n",
       "2277     [https://www.voorhees.edu/]             US  \n",
       "2278     [https://www.wvstateu.edu/]             US  \n",
       "2279       [https://www.wileyc.edu/]             US  \n",
       "2280         [https://www.wssu.edu/]             US  \n",
       "\n",
       "[2522 rows x 6 columns]"
      ]
     },
     "execution_count": 10,
     "metadata": {},
     "output_type": "execute_result"
    }
   ],
   "source": [
    "cambiar_guion(df_unido)"
   ]
  },
  {
   "attachments": {},
   "cell_type": "markdown",
   "metadata": {},
   "source": [
    "\n",
    "- La columna de domains nos da una información similar a la de web_pages. Eliminad la columna domains."
   ]
  },
  {
   "cell_type": "code",
   "execution_count": 11,
   "metadata": {},
   "outputs": [],
   "source": [
    "df_unido.drop(['domains'], axis = 1, inplace=True)"
   ]
  },
  {
   "cell_type": "code",
   "execution_count": 12,
   "metadata": {},
   "outputs": [
    {
     "data": {
      "text/html": [
       "<div>\n",
       "<style scoped>\n",
       "    .dataframe tbody tr th:only-of-type {\n",
       "        vertical-align: middle;\n",
       "    }\n",
       "\n",
       "    .dataframe tbody tr th {\n",
       "        vertical-align: top;\n",
       "    }\n",
       "\n",
       "    .dataframe thead th {\n",
       "        text-align: right;\n",
       "    }\n",
       "</style>\n",
       "<table border=\"1\" class=\"dataframe\">\n",
       "  <thead>\n",
       "    <tr style=\"text-align: right;\">\n",
       "      <th></th>\n",
       "      <th>state_province</th>\n",
       "      <th>name</th>\n",
       "      <th>country</th>\n",
       "      <th>web_pages</th>\n",
       "      <th>alpha_two_code</th>\n",
       "    </tr>\n",
       "  </thead>\n",
       "  <tbody>\n",
       "    <tr>\n",
       "      <th>0</th>\n",
       "      <td>Buenos Aires</td>\n",
       "      <td>Universidad Atlantida Argentina</td>\n",
       "      <td>Argentina</td>\n",
       "      <td>[http://www.atlantida.edu.ar/]</td>\n",
       "      <td>AR</td>\n",
       "    </tr>\n",
       "    <tr>\n",
       "      <th>1</th>\n",
       "      <td>Buenos Aires</td>\n",
       "      <td>Universidad Austral Buenos Aires</td>\n",
       "      <td>Argentina</td>\n",
       "      <td>[http://www.austral.edu.ar/]</td>\n",
       "      <td>AR</td>\n",
       "    </tr>\n",
       "  </tbody>\n",
       "</table>\n",
       "</div>"
      ],
      "text/plain": [
       "  state_province                              name    country  \\\n",
       "0   Buenos Aires   Universidad Atlantida Argentina  Argentina   \n",
       "1   Buenos Aires  Universidad Austral Buenos Aires  Argentina   \n",
       "\n",
       "                        web_pages alpha_two_code  \n",
       "0  [http://www.atlantida.edu.ar/]             AR  \n",
       "1    [http://www.austral.edu.ar/]             AR  "
      ]
     },
     "execution_count": 12,
     "metadata": {},
     "output_type": "execute_result"
    }
   ],
   "source": [
    "df_unido.head(2)"
   ]
  },
  {
   "attachments": {},
   "cell_type": "markdown",
   "metadata": {},
   "source": [
    "3. Si exploramos la columna de web_pages, nos daremos cuenta que hay universidades, como por ejemplo la Universidad de \"Cégep de Saint-Jérôme\" de Canadá que en su columna de web_pages tiene más de un valor dentro de la lista. Esto es poco práctico y puede llegar a no tener sentido. el objetivo de este ejericio es que usando el método explode de pandas separéis cada elemento de la lista en una fila nueva.(VER LA DOCUMENTACIÓN)"
   ]
  },
  {
   "cell_type": "code",
   "execution_count": 13,
   "metadata": {},
   "outputs": [],
   "source": [
    "df_unido = df_unido.explode('web_pages') "
   ]
  },
  {
   "cell_type": "code",
   "execution_count": 14,
   "metadata": {},
   "outputs": [
    {
     "data": {
      "text/plain": [
       "(2535, 5)"
      ]
     },
     "execution_count": 14,
     "metadata": {},
     "output_type": "execute_result"
    }
   ],
   "source": [
    "#Se observa que ha habido un aumento de las filas de nuestro df, ya que antes había 2522 y ahora, tras el explode, hay 13 más\n",
    "df_unido.shape"
   ]
  },
  {
   "attachments": {},
   "cell_type": "markdown",
   "metadata": {},
   "source": [
    "4. Una vez hayáis realizado el explode, chequead si tenéis duplicados basándonos unicamente en el nombre de la universidad, en caso de que si, eliminadlos."
   ]
  },
  {
   "cell_type": "code",
   "execution_count": 15,
   "metadata": {},
   "outputs": [
    {
     "data": {
      "text/plain": [
       "28"
      ]
     },
     "execution_count": 15,
     "metadata": {},
     "output_type": "execute_result"
    }
   ],
   "source": [
    "df_unido['name'].duplicated().sum()"
   ]
  },
  {
   "cell_type": "code",
   "execution_count": 16,
   "metadata": {},
   "outputs": [
    {
     "data": {
      "text/html": [
       "<div>\n",
       "<style scoped>\n",
       "    .dataframe tbody tr th:only-of-type {\n",
       "        vertical-align: middle;\n",
       "    }\n",
       "\n",
       "    .dataframe tbody tr th {\n",
       "        vertical-align: top;\n",
       "    }\n",
       "\n",
       "    .dataframe thead th {\n",
       "        text-align: right;\n",
       "    }\n",
       "</style>\n",
       "<table border=\"1\" class=\"dataframe\">\n",
       "  <thead>\n",
       "    <tr style=\"text-align: right;\">\n",
       "      <th></th>\n",
       "      <th>state_province</th>\n",
       "      <th>name</th>\n",
       "      <th>country</th>\n",
       "      <th>web_pages</th>\n",
       "      <th>alpha_two_code</th>\n",
       "    </tr>\n",
       "  </thead>\n",
       "  <tbody>\n",
       "    <tr>\n",
       "      <th>0</th>\n",
       "      <td>Quebec</td>\n",
       "      <td>Cégep de Saint-Jérôme</td>\n",
       "      <td>Canada</td>\n",
       "      <td>https://ccmt.cstj.qc.ca</td>\n",
       "      <td>CA</td>\n",
       "    </tr>\n",
       "    <tr>\n",
       "      <th>0</th>\n",
       "      <td>Quebec</td>\n",
       "      <td>Cégep de Saint-Jérôme</td>\n",
       "      <td>Canada</td>\n",
       "      <td>https://ccml.cstj.qc.ca</td>\n",
       "      <td>CA</td>\n",
       "    </tr>\n",
       "    <tr>\n",
       "      <th>48</th>\n",
       "      <td>British Columbia</td>\n",
       "      <td>Langara College</td>\n",
       "      <td>Canada</td>\n",
       "      <td>https://langara.ca/</td>\n",
       "      <td>CA</td>\n",
       "    </tr>\n",
       "    <tr>\n",
       "      <th>88</th>\n",
       "      <td>None</td>\n",
       "      <td>St. Mary's University</td>\n",
       "      <td>Canada</td>\n",
       "      <td>https://smu.ca/</td>\n",
       "      <td>CA</td>\n",
       "    </tr>\n",
       "    <tr>\n",
       "      <th>164</th>\n",
       "      <td>None</td>\n",
       "      <td>Augusta University</td>\n",
       "      <td>United States</td>\n",
       "      <td>http://www.gru.edu/</td>\n",
       "      <td>US</td>\n",
       "    </tr>\n",
       "  </tbody>\n",
       "</table>\n",
       "</div>"
      ],
      "text/plain": [
       "       state_province                   name        country  \\\n",
       "0              Quebec  Cégep de Saint-Jérôme         Canada   \n",
       "0              Quebec  Cégep de Saint-Jérôme         Canada   \n",
       "48   British Columbia        Langara College         Canada   \n",
       "88               None  St. Mary's University         Canada   \n",
       "164              None     Augusta University  United States   \n",
       "\n",
       "                   web_pages alpha_two_code  \n",
       "0    https://ccmt.cstj.qc.ca             CA  \n",
       "0    https://ccml.cstj.qc.ca             CA  \n",
       "48       https://langara.ca/             CA  \n",
       "88           https://smu.ca/             CA  \n",
       "164      http://www.gru.edu/             US  "
      ]
     },
     "execution_count": 16,
     "metadata": {},
     "output_type": "execute_result"
    }
   ],
   "source": [
    "#Se obtiene un df con los duplicados por si acaso, en un futuro, fueran necesarios\n",
    "df_duplicados = df_unido[df_unido['name'].duplicated()]\n",
    "df_duplicados.head()"
   ]
  },
  {
   "cell_type": "code",
   "execution_count": 17,
   "metadata": {},
   "outputs": [],
   "source": [
    "df_unido.drop_duplicates(\"name\", inplace=True)"
   ]
  },
  {
   "cell_type": "code",
   "execution_count": 18,
   "metadata": {},
   "outputs": [
    {
     "data": {
      "text/plain": [
       "0"
      ]
     },
     "execution_count": 18,
     "metadata": {},
     "output_type": "execute_result"
    }
   ],
   "source": [
    "#Comprobamos que, efectivamente, se han borrado los duplicados\n",
    "df_unido['name'].duplicated().sum()"
   ]
  },
  {
   "attachments": {},
   "cell_type": "markdown",
   "metadata": {},
   "source": [
    "5. Si exploramos la columna de state_province veremos que hay universidades cuyo valor para esta columna es None. Cread una función para reemplazar los None por nulos de numpy."
   ]
  },
  {
   "cell_type": "code",
   "execution_count": 19,
   "metadata": {},
   "outputs": [
    {
     "data": {
      "text/plain": [
       "array(['Buenos Aires', 'Ciudad Autónoma de Buenos Aires', 'Entre Ríos',\n",
       "       'Salta', 'Córdoba', 'Mendoza', 'Santa Fé', None,\n",
       "       'Santiago Del Estero', 'Misiones', 'Catamarca', 'Formosa', 'Jujuy',\n",
       "       'La Rioja', 'La Pampa', 'San Juan', 'San Luis', 'Tucumán',\n",
       "       'Quebec', 'Ontario', 'Nova Scotia', 'British Columbia', 'Alberta',\n",
       "       'Manitoba', 'New Brunswick', 'Saskatchewan',\n",
       "       'Newfoundland and Labrador', 'Prince Edward Island', 'Yukon',\n",
       "       'Pennsylvania', 'NV', 'Iowa', 'VA', 'TX', 'Colorado', 'IN', 'CA',\n",
       "       'South Carolina', 'Washington', 'NY', 'Texas', 'ND', 'MI', 'Ohio',\n",
       "       'Florida', 'California', 'North Carolina', 'Michigan', 'GA',\n",
       "       'New York, NY'], dtype=object)"
      ]
     },
     "execution_count": 19,
     "metadata": {},
     "output_type": "execute_result"
    }
   ],
   "source": [
    "df_unido['state_province'].unique()"
   ]
  },
  {
   "cell_type": "code",
   "execution_count": 20,
   "metadata": {},
   "outputs": [
    {
     "data": {
      "text/plain": [
       "state_province    89.110491\n",
       "name               0.000000\n",
       "country            0.000000\n",
       "web_pages          0.000000\n",
       "alpha_two_code     0.000000\n",
       "dtype: float64"
      ]
     },
     "execution_count": 20,
     "metadata": {},
     "output_type": "execute_result"
    }
   ],
   "source": [
    "#Corroboramos que hay nulos en la columna que se nos menciona. Obtenemos el porcentaje.\n",
    "df_unido.isnull().sum()*100/df_unido.shape[0]"
   ]
  },
  {
   "cell_type": "code",
   "execution_count": 21,
   "metadata": {},
   "outputs": [],
   "source": [
    "def reemplazo_none(dataframe):\n",
    "    \"\"\"Función que permite reemplazar los elementos None por Nan.Recibe como parámetro el dataframe\n",
    "    sobre el que se quieren aplicar los cambios.\"\"\"\n",
    "    dataframe = dataframe.fillna(value = np.nan, axis=1)\n",
    "    return dataframe "
   ]
  },
  {
   "cell_type": "code",
   "execution_count": 22,
   "metadata": {},
   "outputs": [],
   "source": [
    "df_unido = reemplazo_none(df_unido)"
   ]
  },
  {
   "cell_type": "code",
   "execution_count": 23,
   "metadata": {},
   "outputs": [
    {
     "data": {
      "text/html": [
       "<div>\n",
       "<style scoped>\n",
       "    .dataframe tbody tr th:only-of-type {\n",
       "        vertical-align: middle;\n",
       "    }\n",
       "\n",
       "    .dataframe tbody tr th {\n",
       "        vertical-align: top;\n",
       "    }\n",
       "\n",
       "    .dataframe thead th {\n",
       "        text-align: right;\n",
       "    }\n",
       "</style>\n",
       "<table border=\"1\" class=\"dataframe\">\n",
       "  <thead>\n",
       "    <tr style=\"text-align: right;\">\n",
       "      <th></th>\n",
       "      <th>state_province</th>\n",
       "      <th>name</th>\n",
       "      <th>country</th>\n",
       "      <th>web_pages</th>\n",
       "      <th>alpha_two_code</th>\n",
       "    </tr>\n",
       "  </thead>\n",
       "  <tbody>\n",
       "    <tr>\n",
       "      <th>2276</th>\n",
       "      <td>NaN</td>\n",
       "      <td>Virginia University of Lynchburg</td>\n",
       "      <td>United States</td>\n",
       "      <td>https://www.vul.edu/</td>\n",
       "      <td>US</td>\n",
       "    </tr>\n",
       "    <tr>\n",
       "      <th>2277</th>\n",
       "      <td>NaN</td>\n",
       "      <td>Voorhees University</td>\n",
       "      <td>United States</td>\n",
       "      <td>https://www.voorhees.edu/</td>\n",
       "      <td>US</td>\n",
       "    </tr>\n",
       "    <tr>\n",
       "      <th>2278</th>\n",
       "      <td>NaN</td>\n",
       "      <td>West Virginia State University</td>\n",
       "      <td>United States</td>\n",
       "      <td>https://www.wvstateu.edu/</td>\n",
       "      <td>US</td>\n",
       "    </tr>\n",
       "    <tr>\n",
       "      <th>2279</th>\n",
       "      <td>NaN</td>\n",
       "      <td>Wiley College</td>\n",
       "      <td>United States</td>\n",
       "      <td>https://www.wileyc.edu/</td>\n",
       "      <td>US</td>\n",
       "    </tr>\n",
       "    <tr>\n",
       "      <th>2280</th>\n",
       "      <td>NaN</td>\n",
       "      <td>Winston-Salem State University</td>\n",
       "      <td>United States</td>\n",
       "      <td>https://www.wssu.edu/</td>\n",
       "      <td>US</td>\n",
       "    </tr>\n",
       "  </tbody>\n",
       "</table>\n",
       "</div>"
      ],
      "text/plain": [
       "     state_province                              name        country  \\\n",
       "2276            NaN  Virginia University of Lynchburg  United States   \n",
       "2277            NaN               Voorhees University  United States   \n",
       "2278            NaN    West Virginia State University  United States   \n",
       "2279            NaN                     Wiley College  United States   \n",
       "2280            NaN    Winston-Salem State University  United States   \n",
       "\n",
       "                      web_pages alpha_two_code  \n",
       "2276       https://www.vul.edu/             US  \n",
       "2277  https://www.voorhees.edu/             US  \n",
       "2278  https://www.wvstateu.edu/             US  \n",
       "2279    https://www.wileyc.edu/             US  \n",
       "2280      https://www.wssu.edu/             US  "
      ]
     },
     "execution_count": 23,
     "metadata": {},
     "output_type": "execute_result"
    }
   ],
   "source": [
    "df_unido.tail()"
   ]
  },
  {
   "cell_type": "code",
   "execution_count": 24,
   "metadata": {},
   "outputs": [
    {
     "data": {
      "text/plain": [
       "array(['Buenos Aires', 'Ciudad Autónoma de Buenos Aires', 'Entre Ríos',\n",
       "       'Salta', 'Córdoba', 'Mendoza', 'Santa Fé', nan,\n",
       "       'Santiago Del Estero', 'Misiones', 'Catamarca', 'Formosa', 'Jujuy',\n",
       "       'La Rioja', 'La Pampa', 'San Juan', 'San Luis', 'Tucumán',\n",
       "       'Quebec', 'Ontario', 'Nova Scotia', 'British Columbia', 'Alberta',\n",
       "       'Manitoba', 'New Brunswick', 'Saskatchewan',\n",
       "       'Newfoundland and Labrador', 'Prince Edward Island', 'Yukon',\n",
       "       'Pennsylvania', 'NV', 'Iowa', 'VA', 'TX', 'Colorado', 'IN', 'CA',\n",
       "       'South Carolina', 'Washington', 'NY', 'Texas', 'ND', 'MI', 'Ohio',\n",
       "       'Florida', 'California', 'North Carolina', 'Michigan', 'GA',\n",
       "       'New York, NY'], dtype=object)"
      ]
     },
     "execution_count": 24,
     "metadata": {},
     "output_type": "execute_result"
    }
   ],
   "source": [
    "#Comprobamos que han desaparecido los \"None\" como valor único y que, en su lugar, tenemos nan\n",
    "df_unido['state_province'].unique()"
   ]
  },
  {
   "attachments": {},
   "cell_type": "markdown",
   "metadata": {},
   "source": [
    "6. Después del último cambio, os habréis dado cuenta que tenemos muchos valores nulos dentro de la columna de state_province, por lo que nuestro jefe nos pide que reemplacemos esos nulos por \"Unknow\". No nos piden ningún método especifico, asi que podremos usar el método que queramos."
   ]
  },
  {
   "cell_type": "code",
   "execution_count": 24,
   "metadata": {},
   "outputs": [],
   "source": [
    "def reemplazo_desconocido(dataframe, columna):\n",
    "    \"\"\"Función que permite sustituir los Nan por el string \"Unknown\". Recibe dos parámetros: \n",
    "    el dataframe y la columna sobre la que se quiere realizar el cambio. \"\"\"\n",
    "    dataframe[columna].fillna(\"Unkwnon\", inplace=True)\n",
    "    return dataframe\n"
   ]
  },
  {
   "cell_type": "code",
   "execution_count": 25,
   "metadata": {},
   "outputs": [],
   "source": [
    "df_unido = reemplazo_desconocido(df_unido, \"state_province\")"
   ]
  },
  {
   "cell_type": "code",
   "execution_count": 26,
   "metadata": {},
   "outputs": [
    {
     "data": {
      "text/html": [
       "<div>\n",
       "<style scoped>\n",
       "    .dataframe tbody tr th:only-of-type {\n",
       "        vertical-align: middle;\n",
       "    }\n",
       "\n",
       "    .dataframe tbody tr th {\n",
       "        vertical-align: top;\n",
       "    }\n",
       "\n",
       "    .dataframe thead th {\n",
       "        text-align: right;\n",
       "    }\n",
       "</style>\n",
       "<table border=\"1\" class=\"dataframe\">\n",
       "  <thead>\n",
       "    <tr style=\"text-align: right;\">\n",
       "      <th></th>\n",
       "      <th>state_province</th>\n",
       "      <th>name</th>\n",
       "      <th>country</th>\n",
       "      <th>web_pages</th>\n",
       "      <th>alpha_two_code</th>\n",
       "    </tr>\n",
       "  </thead>\n",
       "  <tbody>\n",
       "    <tr>\n",
       "      <th>0</th>\n",
       "      <td>Buenos Aires</td>\n",
       "      <td>Universidad Atlantida Argentina</td>\n",
       "      <td>Argentina</td>\n",
       "      <td>http://www.atlantida.edu.ar/</td>\n",
       "      <td>AR</td>\n",
       "    </tr>\n",
       "    <tr>\n",
       "      <th>1</th>\n",
       "      <td>Buenos Aires</td>\n",
       "      <td>Universidad Austral Buenos Aires</td>\n",
       "      <td>Argentina</td>\n",
       "      <td>http://www.austral.edu.ar/</td>\n",
       "      <td>AR</td>\n",
       "    </tr>\n",
       "    <tr>\n",
       "      <th>2</th>\n",
       "      <td>Ciudad Autónoma de Buenos Aires</td>\n",
       "      <td>Universidad CAECE, Buenos Aires</td>\n",
       "      <td>Argentina</td>\n",
       "      <td>http://www.caece.edu.ar/</td>\n",
       "      <td>AR</td>\n",
       "    </tr>\n",
       "    <tr>\n",
       "      <th>3</th>\n",
       "      <td>Ciudad Autónoma de Buenos Aires</td>\n",
       "      <td>Instituto Universitario CEMA</td>\n",
       "      <td>Argentina</td>\n",
       "      <td>http://www.cema.edu.ar/</td>\n",
       "      <td>AR</td>\n",
       "    </tr>\n",
       "    <tr>\n",
       "      <th>4</th>\n",
       "      <td>Ciudad Autónoma de Buenos Aires</td>\n",
       "      <td>Instituto de Enseñanza Superior del Ejército</td>\n",
       "      <td>Argentina</td>\n",
       "      <td>http://www.iese.edu.ar/</td>\n",
       "      <td>AR</td>\n",
       "    </tr>\n",
       "    <tr>\n",
       "      <th>...</th>\n",
       "      <td>...</td>\n",
       "      <td>...</td>\n",
       "      <td>...</td>\n",
       "      <td>...</td>\n",
       "      <td>...</td>\n",
       "    </tr>\n",
       "    <tr>\n",
       "      <th>2276</th>\n",
       "      <td>Unkwnon</td>\n",
       "      <td>Virginia University of Lynchburg</td>\n",
       "      <td>United States</td>\n",
       "      <td>https://www.vul.edu/</td>\n",
       "      <td>US</td>\n",
       "    </tr>\n",
       "    <tr>\n",
       "      <th>2277</th>\n",
       "      <td>Unkwnon</td>\n",
       "      <td>Voorhees University</td>\n",
       "      <td>United States</td>\n",
       "      <td>https://www.voorhees.edu/</td>\n",
       "      <td>US</td>\n",
       "    </tr>\n",
       "    <tr>\n",
       "      <th>2278</th>\n",
       "      <td>Unkwnon</td>\n",
       "      <td>West Virginia State University</td>\n",
       "      <td>United States</td>\n",
       "      <td>https://www.wvstateu.edu/</td>\n",
       "      <td>US</td>\n",
       "    </tr>\n",
       "    <tr>\n",
       "      <th>2279</th>\n",
       "      <td>Unkwnon</td>\n",
       "      <td>Wiley College</td>\n",
       "      <td>United States</td>\n",
       "      <td>https://www.wileyc.edu/</td>\n",
       "      <td>US</td>\n",
       "    </tr>\n",
       "    <tr>\n",
       "      <th>2280</th>\n",
       "      <td>Unkwnon</td>\n",
       "      <td>Winston-Salem State University</td>\n",
       "      <td>United States</td>\n",
       "      <td>https://www.wssu.edu/</td>\n",
       "      <td>US</td>\n",
       "    </tr>\n",
       "  </tbody>\n",
       "</table>\n",
       "<p>2507 rows × 5 columns</p>\n",
       "</div>"
      ],
      "text/plain": [
       "                       state_province  \\\n",
       "0                        Buenos Aires   \n",
       "1                        Buenos Aires   \n",
       "2     Ciudad Autónoma de Buenos Aires   \n",
       "3     Ciudad Autónoma de Buenos Aires   \n",
       "4     Ciudad Autónoma de Buenos Aires   \n",
       "...                               ...   \n",
       "2276                          Unkwnon   \n",
       "2277                          Unkwnon   \n",
       "2278                          Unkwnon   \n",
       "2279                          Unkwnon   \n",
       "2280                          Unkwnon   \n",
       "\n",
       "                                              name        country  \\\n",
       "0                  Universidad Atlantida Argentina      Argentina   \n",
       "1                 Universidad Austral Buenos Aires      Argentina   \n",
       "2                  Universidad CAECE, Buenos Aires      Argentina   \n",
       "3                     Instituto Universitario CEMA      Argentina   \n",
       "4     Instituto de Enseñanza Superior del Ejército      Argentina   \n",
       "...                                            ...            ...   \n",
       "2276              Virginia University of Lynchburg  United States   \n",
       "2277                           Voorhees University  United States   \n",
       "2278                West Virginia State University  United States   \n",
       "2279                                 Wiley College  United States   \n",
       "2280                Winston-Salem State University  United States   \n",
       "\n",
       "                         web_pages alpha_two_code  \n",
       "0     http://www.atlantida.edu.ar/             AR  \n",
       "1       http://www.austral.edu.ar/             AR  \n",
       "2         http://www.caece.edu.ar/             AR  \n",
       "3          http://www.cema.edu.ar/             AR  \n",
       "4          http://www.iese.edu.ar/             AR  \n",
       "...                            ...            ...  \n",
       "2276          https://www.vul.edu/             US  \n",
       "2277     https://www.voorhees.edu/             US  \n",
       "2278     https://www.wvstateu.edu/             US  \n",
       "2279       https://www.wileyc.edu/             US  \n",
       "2280         https://www.wssu.edu/             US  \n",
       "\n",
       "[2507 rows x 5 columns]"
      ]
     },
     "execution_count": 26,
     "metadata": {},
     "output_type": "execute_result"
    }
   ],
   "source": [
    "df_unido"
   ]
  },
  {
   "attachments": {},
   "cell_type": "markdown",
   "metadata": {},
   "source": [
    "7. Ahora nuestros jefes nos piden que saquemos las coordenadas de las provincias donde están ubicadas las universidades. Para eso nos piden que usemos la librería de geopy que aprendimos el día del repaso, aquí la documentación. Para desarrollar este ejercicio deberéis:\n",
    "   - Sacar los valores únicos de la columna state_province.\n",
    "   - Algunos de los valores que tenemos están con siglas, y deberéis reemplazarlos por lo siguiente:\n",
    "     - NV: reemplazalo por Nevada\n",
    "     - IN: reemplazalo por Indianapolis\n",
    "     - CA: reemplazalo por California\n",
    "     - VA: reemplazalo por Virginia\n",
    "     - NY: reemplazalo por New York\n",
    "     - MI: reemplazalo por Michigan\n",
    "     - GA: reemplazalo por Georgia\n",
    "     - ND: reemplazalo por North Dakota\n",
    "\n",
    " - Otros valores que tenemos más formateados son y que deberemos reemplazar:\n",
    "     - New York, NY. Deberéis reemplazarlo por \"New York\".\n",
    "     - Buenos Aires', 'Ciudad Autónoma de Buenos Aires'. En este caso deberéis poner en ambos casos \"Buenos Aires\"\n",
    "\n",
    " - Una vez realizados los pasos anteriores, crea una lista con los valores únicos de las provincias de las universidades.\n",
    " - Usando la API de geopy, extraed la latitud y la longitud de cada una de las provincias y almacenad los resultados en un dataframe.\n",
    " - Una vez que tengáis los datos del ejercicio anterior en un dataframe, unidlo con el de las universidades que hemos sacado de la API."
   ]
  },
  {
   "cell_type": "code",
   "execution_count": 27,
   "metadata": {},
   "outputs": [
    {
     "data": {
      "text/plain": [
       "array(['Buenos Aires', 'Ciudad Autónoma de Buenos Aires', 'Entre Ríos',\n",
       "       'Salta', 'Córdoba', 'Mendoza', 'Santa Fé', 'Unkwnon',\n",
       "       'Santiago Del Estero', 'Misiones', 'Catamarca', 'Formosa', 'Jujuy',\n",
       "       'La Rioja', 'La Pampa', 'San Juan', 'San Luis', 'Tucumán',\n",
       "       'Quebec', 'Ontario', 'Nova Scotia', 'British Columbia', 'Alberta',\n",
       "       'Manitoba', 'New Brunswick', 'Saskatchewan',\n",
       "       'Newfoundland and Labrador', 'Prince Edward Island', 'Yukon',\n",
       "       'Pennsylvania', 'NV', 'Iowa', 'VA', 'TX', 'Colorado', 'IN', 'CA',\n",
       "       'South Carolina', 'Washington', 'NY', 'Texas', 'ND', 'MI', 'Ohio',\n",
       "       'Florida', 'California', 'North Carolina', 'Michigan', 'GA',\n",
       "       'New York, NY'], dtype=object)"
      ]
     },
     "execution_count": 27,
     "metadata": {},
     "output_type": "execute_result"
    }
   ],
   "source": [
    "df_unido['state_province'].unique() #En total hay 50 categorías únicas, se comprueba con un len()"
   ]
  },
  {
   "cell_type": "code",
   "execution_count": 28,
   "metadata": {},
   "outputs": [],
   "source": [
    "# Necesitamos crear un diccionario con los valores únicos originales del dataframe y los nuevos nombres únicos que queremos que reciban para homogeneizarlos\n",
    "\n",
    "diccionario_nombres = {'Buenos Aires': 'Buenos Aires', 'Ciudad Autónoma de Buenos Aires': 'Buenos Aires', 'Entre Ríos':'Entre Ríos',\n",
    "       'Salta':'Salta', 'Córdoba': 'Córdoba', 'Mendoza': 'Mendoza', 'Santa Fé': 'Santa Fe', 'Unkwon':'Unkwon',\n",
    "       'Santiago Del Estero': 'Santiago del Estero', 'Misiones': 'Misiones', 'Catamarca':'Catamarca', 'Formosa':'Formosa', 'Jujuy': 'Jujuy',\n",
    "       'La Rioja':'La Rioja', 'La Pampa':'La Pampa', 'San Juan': 'San Juan', 'San Luis': 'San Luis', 'Tucumán': 'Tucumán',\n",
    "       'Quebec': 'Quebec', 'Ontario': 'Ontario', 'Nova Scotia': 'Nova Scotia', 'British Columbia':'British Columbia', 'Alberta':'Alberta',\n",
    "       'Manitoba':'Manitoba', 'New Brunswick': 'New Brunswick', 'Saskatchewan': 'Saskatchewan',\n",
    "       'Newfoundland and Labrador': 'Newfoundland and Labrador', 'Prince Edward Island': 'Prince Edward Island', 'Yukon': 'Yukon',\n",
    "       'Pennsylvania':'Pennsylvania', 'NV': 'Nevada', 'Iowa':'Iowa', 'VA':'Virginia', 'TX': 'Texas', 'Colorado':'Colorado', 'IN': 'Indianapolis', 'CA':'California',\n",
    "       'South Carolina':'South Carolina', 'Washington':'Washington', 'NY': 'New York', 'Texas':'Texas', 'ND': 'North Dakota', 'MI': 'Michigan', 'Ohio':'Ohio',\n",
    "       'Florida':'Florida', 'California':'California', 'North Carolina':'North Carolina', 'Michigan':'Michigan', 'GA': 'Georgia',\n",
    "       'New York, NY': 'New York'}"
   ]
  },
  {
   "cell_type": "code",
   "execution_count": 32,
   "metadata": {},
   "outputs": [],
   "source": [
    "#Forma simple de realizar el mapeo. No obstante, no respeta el cambio de los nan por \"Unknown\" y hay que volver a reemplazarlo.\n",
    "df_unido['state_province'] = df_unido['state_province'].map(diccionario_nombres)"
   ]
  },
  {
   "cell_type": "code",
   "execution_count": 29,
   "metadata": {},
   "outputs": [],
   "source": [
    "def cambiar_estado(df, columna, diccionario):\n",
    "    \"\"\"Función que tiene como objetivo reemplazar los valores únicos de una columna. Recibe tres parámetros:\n",
    "    el dataframe, la columna sobre la que se quieren cambiar los valores y el diccionario con los nuevos valores asignados.\"\"\"\n",
    "    df[columna]=df[columna].map(diccionario)\n",
    "    df[columna].replace(np.nan, \"Unkwnon\", inplace=True)\n",
    "    return df"
   ]
  },
  {
   "cell_type": "code",
   "execution_count": null,
   "metadata": {},
   "outputs": [],
   "source": [
    "df_unido = cambiar_estado(df_unido, \"state_province\", diccionario_nombres)"
   ]
  },
  {
   "cell_type": "code",
   "execution_count": 32,
   "metadata": {},
   "outputs": [
    {
     "data": {
      "text/plain": [
       "array(['Buenos Aires', 'Entre Ríos', 'Salta', 'Córdoba', 'Mendoza',\n",
       "       'Santa Fe', 'Unkwnon', 'Santiago del Estero', 'Misiones',\n",
       "       'Catamarca', 'Formosa', 'Jujuy', 'La Rioja', 'La Pampa',\n",
       "       'San Juan', 'San Luis', 'Tucumán', 'Quebec', 'Ontario',\n",
       "       'Nova Scotia', 'British Columbia', 'Alberta', 'Manitoba',\n",
       "       'New Brunswick', 'Saskatchewan', 'Newfoundland and Labrador',\n",
       "       'Prince Edward Island', 'Yukon', 'Pennsylvania', 'Nevada', 'Iowa',\n",
       "       'Virginia', 'Texas', 'Colorado', 'Indianapolis', 'California',\n",
       "       'South Carolina', 'Washington', 'New York', 'North Dakota',\n",
       "       'Michigan', 'Ohio', 'Florida', 'North Carolina', 'Georgia'],\n",
       "      dtype=object)"
      ]
     },
     "execution_count": 32,
     "metadata": {},
     "output_type": "execute_result"
    }
   ],
   "source": [
    "df_unido['state_province'].unique() #len() de 45 "
   ]
  },
  {
   "attachments": {},
   "cell_type": "markdown",
   "metadata": {},
   "source": [
    " - Una vez realizados los pasos anteriores, crea una lista con los valores únicos de las provincias de las universidades.\n"
   ]
  },
  {
   "cell_type": "code",
   "execution_count": 33,
   "metadata": {},
   "outputs": [
    {
     "data": {
      "text/plain": [
       "['Buenos Aires',\n",
       " 'Entre Ríos',\n",
       " 'Salta',\n",
       " 'Córdoba',\n",
       " 'Mendoza',\n",
       " 'Santa Fe',\n",
       " 'Unkwnon',\n",
       " 'Santiago del Estero',\n",
       " 'Misiones',\n",
       " 'Catamarca',\n",
       " 'Formosa',\n",
       " 'Jujuy',\n",
       " 'La Rioja',\n",
       " 'La Pampa',\n",
       " 'San Juan',\n",
       " 'San Luis',\n",
       " 'Tucumán',\n",
       " 'Quebec',\n",
       " 'Ontario',\n",
       " 'Nova Scotia',\n",
       " 'British Columbia',\n",
       " 'Alberta',\n",
       " 'Manitoba',\n",
       " 'New Brunswick',\n",
       " 'Saskatchewan',\n",
       " 'Newfoundland and Labrador',\n",
       " 'Prince Edward Island',\n",
       " 'Yukon',\n",
       " 'Pennsylvania',\n",
       " 'Nevada',\n",
       " 'Iowa',\n",
       " 'Virginia',\n",
       " 'Texas',\n",
       " 'Colorado',\n",
       " 'Indianapolis',\n",
       " 'California',\n",
       " 'South Carolina',\n",
       " 'Washington',\n",
       " 'New York',\n",
       " 'North Dakota',\n",
       " 'Michigan',\n",
       " 'Ohio',\n",
       " 'Florida',\n",
       " 'North Carolina',\n",
       " 'Georgia']"
      ]
     },
     "execution_count": 33,
     "metadata": {},
     "output_type": "execute_result"
    }
   ],
   "source": [
    "unicos_provincia = df_unido['state_province'].unique()\n",
    "lista_unicos_provincia = list(unicos_provincia)\n",
    "lista_unicos_provincia"
   ]
  },
  {
   "attachments": {},
   "cell_type": "markdown",
   "metadata": {},
   "source": [
    " - Usando la API de geopy, extraed la latitud y la longitud de cada una de las provincias y almacenad los resultados en un dataframe.\n"
   ]
  },
  {
   "cell_type": "code",
   "execution_count": 35,
   "metadata": {},
   "outputs": [],
   "source": [
    "def obtener_coordenadas(lista_unicos_provincia):\n",
    "    \"\"\"Función que permite obtener las coordenadas de latitud y longitud de cualquier lugar que se le pase.\n",
    "    Recibe un parámetro, que es una lista con lugares, sitios, localizaciones.\"\"\"\n",
    "    lista_coordenadas = []\n",
    "    geolocator = Nominatim(user_agent=\"mi_usuario\")\n",
    "    \n",
    "    for provincia in lista_unicos_provincia:\n",
    "        if provincia == \"Unkwnon\":\n",
    "            lista_coordenadas.append((\"Unkwnon\", \"Unkwnon\"))\n",
    "        else:\n",
    "            ubicacion = geolocator.geocode(provincia)\n",
    "            coordenadas = (ubicacion.latitude, ubicacion.longitude)\n",
    "            lista_coordenadas.append(coordenadas)\n",
    "    return lista_coordenadas\n"
   ]
  },
  {
   "cell_type": "code",
   "execution_count": 36,
   "metadata": {},
   "outputs": [],
   "source": [
    "lista_coords_final = obtener_coordenadas(lista_unicos_provincia)"
   ]
  },
  {
   "cell_type": "code",
   "execution_count": 97,
   "metadata": {},
   "outputs": [
    {
     "data": {
      "text/plain": [
       "[(-34.6075682, -58.4370894),\n",
       " (-31.6252842, -59.3539578),\n",
       " (-25.1076701, -64.3494964),\n",
       " (37.8845813, -4.7760138),\n",
       " (-34.787093049999996, -68.43818677312292),\n",
       " (-30.3154739, -61.1645076),\n",
       " ('Unkwnon', 'Unkwnon'),\n",
       " (-27.6431016, -63.5408542),\n",
       " (-26.737224, -54.4315257),\n",
       " (-27.1910825, -67.105374),\n",
       " (23.9739374, 120.9820179),\n",
       " (-23.3161458, -65.7595288),\n",
       " (42.2814642, -2.482804975070473),\n",
       " (-37.2314643, -65.3972948),\n",
       " (18.465299, -66.116666),\n",
       " (-33.2762202, -65.9515546),\n",
       " (-26.5643582, -64.882397),\n",
       " (52.4760892, -71.8258668),\n",
       " (50.000678, -86.000977),\n",
       " (45.1960403, -63.1653789),\n",
       " (55.001251, -125.002441),\n",
       " (55.001251, -115.002136),\n",
       " (55.001251, -97.001038),\n",
       " (46.500283, -66.750183),\n",
       " (55.5321257, -106.1412243),\n",
       " (53.8217327, -61.2295532),\n",
       " (46.503680700000004, -63.59541096896726),\n",
       " (63.000147, -136.002502),\n",
       " (40.9699889, -77.7278831),\n",
       " (39.5158825, -116.8537227),\n",
       " (41.9216734, -93.3122705),\n",
       " (37.1232245, -78.4927721),\n",
       " (31.2638905, -98.5456116),\n",
       " (38.7251776, -105.607716),\n",
       " (39.7683331, -86.1583502),\n",
       " (36.7014631, -118.755997),\n",
       " (33.6874388, -80.4363743),\n",
       " (38.8950368, -77.0365427),\n",
       " (40.7127281, -74.0060152),\n",
       " (31.2638905, -98.5456116),\n",
       " (47.6201461, -100.540737),\n",
       " (43.6211955, -84.6824346),\n",
       " (40.2253569, -82.6881395),\n",
       " (27.7567667, -81.4639835),\n",
       " (35.6729639, -79.0392919),\n",
       " (32.3293809, -83.1137366)]"
      ]
     },
     "execution_count": 97,
     "metadata": {},
     "output_type": "execute_result"
    }
   ],
   "source": [
    "lista_coords_final"
   ]
  },
  {
   "cell_type": "code",
   "execution_count": 37,
   "metadata": {},
   "outputs": [
    {
     "data": {
      "text/html": [
       "<div>\n",
       "<style scoped>\n",
       "    .dataframe tbody tr th:only-of-type {\n",
       "        vertical-align: middle;\n",
       "    }\n",
       "\n",
       "    .dataframe tbody tr th {\n",
       "        vertical-align: top;\n",
       "    }\n",
       "\n",
       "    .dataframe thead th {\n",
       "        text-align: right;\n",
       "    }\n",
       "</style>\n",
       "<table border=\"1\" class=\"dataframe\">\n",
       "  <thead>\n",
       "    <tr style=\"text-align: right;\">\n",
       "      <th></th>\n",
       "      <th>state_province</th>\n",
       "      <th>latitude_longitude</th>\n",
       "    </tr>\n",
       "  </thead>\n",
       "  <tbody>\n",
       "    <tr>\n",
       "      <th>0</th>\n",
       "      <td>Buenos Aires</td>\n",
       "      <td>(-34.6075682, -58.4370894)</td>\n",
       "    </tr>\n",
       "    <tr>\n",
       "      <th>1</th>\n",
       "      <td>Entre Ríos</td>\n",
       "      <td>(-31.6252842, -59.3539578)</td>\n",
       "    </tr>\n",
       "    <tr>\n",
       "      <th>2</th>\n",
       "      <td>Salta</td>\n",
       "      <td>(-25.1076701, -64.3494964)</td>\n",
       "    </tr>\n",
       "    <tr>\n",
       "      <th>3</th>\n",
       "      <td>Córdoba</td>\n",
       "      <td>(37.8845813, -4.7760138)</td>\n",
       "    </tr>\n",
       "    <tr>\n",
       "      <th>4</th>\n",
       "      <td>Mendoza</td>\n",
       "      <td>(-34.787093049999996, -68.43818677312292)</td>\n",
       "    </tr>\n",
       "    <tr>\n",
       "      <th>5</th>\n",
       "      <td>Santa Fe</td>\n",
       "      <td>(-30.3154739, -61.1645076)</td>\n",
       "    </tr>\n",
       "    <tr>\n",
       "      <th>6</th>\n",
       "      <td>Unkwnon</td>\n",
       "      <td>(Unkwnon, Unkwnon)</td>\n",
       "    </tr>\n",
       "  </tbody>\n",
       "</table>\n",
       "</div>"
      ],
      "text/plain": [
       "  state_province                         latitude_longitude\n",
       "0   Buenos Aires                 (-34.6075682, -58.4370894)\n",
       "1     Entre Ríos                 (-31.6252842, -59.3539578)\n",
       "2          Salta                 (-25.1076701, -64.3494964)\n",
       "3        Córdoba                   (37.8845813, -4.7760138)\n",
       "4        Mendoza  (-34.787093049999996, -68.43818677312292)\n",
       "5       Santa Fe                 (-30.3154739, -61.1645076)\n",
       "6        Unkwnon                         (Unkwnon, Unkwnon)"
      ]
     },
     "execution_count": 37,
     "metadata": {},
     "output_type": "execute_result"
    }
   ],
   "source": [
    "df_coordenadas = pd.DataFrame({'state_province': lista_unicos_provincia, 'latitude_longitude': lista_coords_final})\n",
    "df_coordenadas.head(7)"
   ]
  },
  {
   "cell_type": "markdown",
   "metadata": {},
   "source": [
    " - Una vez que tengáis los datos del ejercicio anterior en un dataframe, unidlo con el de las universidades que hemos sacado de la API."
   ]
  },
  {
   "cell_type": "code",
   "execution_count": 38,
   "metadata": {},
   "outputs": [
    {
     "data": {
      "text/html": [
       "<div>\n",
       "<style scoped>\n",
       "    .dataframe tbody tr th:only-of-type {\n",
       "        vertical-align: middle;\n",
       "    }\n",
       "\n",
       "    .dataframe tbody tr th {\n",
       "        vertical-align: top;\n",
       "    }\n",
       "\n",
       "    .dataframe thead th {\n",
       "        text-align: right;\n",
       "    }\n",
       "</style>\n",
       "<table border=\"1\" class=\"dataframe\">\n",
       "  <thead>\n",
       "    <tr style=\"text-align: right;\">\n",
       "      <th></th>\n",
       "      <th>state_province</th>\n",
       "      <th>name</th>\n",
       "      <th>country</th>\n",
       "      <th>web_pages</th>\n",
       "      <th>alpha_two_code</th>\n",
       "      <th>latitude_longitude</th>\n",
       "    </tr>\n",
       "  </thead>\n",
       "  <tbody>\n",
       "    <tr>\n",
       "      <th>0</th>\n",
       "      <td>Buenos Aires</td>\n",
       "      <td>Universidad Atlantida Argentina</td>\n",
       "      <td>Argentina</td>\n",
       "      <td>http://www.atlantida.edu.ar/</td>\n",
       "      <td>AR</td>\n",
       "      <td>(-34.6075682, -58.4370894)</td>\n",
       "    </tr>\n",
       "    <tr>\n",
       "      <th>1</th>\n",
       "      <td>Buenos Aires</td>\n",
       "      <td>Universidad Austral Buenos Aires</td>\n",
       "      <td>Argentina</td>\n",
       "      <td>http://www.austral.edu.ar/</td>\n",
       "      <td>AR</td>\n",
       "      <td>(-34.6075682, -58.4370894)</td>\n",
       "    </tr>\n",
       "    <tr>\n",
       "      <th>2</th>\n",
       "      <td>Buenos Aires</td>\n",
       "      <td>Universidad CAECE, Buenos Aires</td>\n",
       "      <td>Argentina</td>\n",
       "      <td>http://www.caece.edu.ar/</td>\n",
       "      <td>AR</td>\n",
       "      <td>(-34.6075682, -58.4370894)</td>\n",
       "    </tr>\n",
       "    <tr>\n",
       "      <th>3</th>\n",
       "      <td>Buenos Aires</td>\n",
       "      <td>Instituto Universitario CEMA</td>\n",
       "      <td>Argentina</td>\n",
       "      <td>http://www.cema.edu.ar/</td>\n",
       "      <td>AR</td>\n",
       "      <td>(-34.6075682, -58.4370894)</td>\n",
       "    </tr>\n",
       "    <tr>\n",
       "      <th>4</th>\n",
       "      <td>Buenos Aires</td>\n",
       "      <td>Instituto de Enseñanza Superior del Ejército</td>\n",
       "      <td>Argentina</td>\n",
       "      <td>http://www.iese.edu.ar/</td>\n",
       "      <td>AR</td>\n",
       "      <td>(-34.6075682, -58.4370894)</td>\n",
       "    </tr>\n",
       "  </tbody>\n",
       "</table>\n",
       "</div>"
      ],
      "text/plain": [
       "  state_province                                          name    country  \\\n",
       "0   Buenos Aires               Universidad Atlantida Argentina  Argentina   \n",
       "1   Buenos Aires              Universidad Austral Buenos Aires  Argentina   \n",
       "2   Buenos Aires               Universidad CAECE, Buenos Aires  Argentina   \n",
       "3   Buenos Aires                  Instituto Universitario CEMA  Argentina   \n",
       "4   Buenos Aires  Instituto de Enseñanza Superior del Ejército  Argentina   \n",
       "\n",
       "                      web_pages alpha_two_code          latitude_longitude  \n",
       "0  http://www.atlantida.edu.ar/             AR  (-34.6075682, -58.4370894)  \n",
       "1    http://www.austral.edu.ar/             AR  (-34.6075682, -58.4370894)  \n",
       "2      http://www.caece.edu.ar/             AR  (-34.6075682, -58.4370894)  \n",
       "3       http://www.cema.edu.ar/             AR  (-34.6075682, -58.4370894)  \n",
       "4       http://www.iese.edu.ar/             AR  (-34.6075682, -58.4370894)  "
      ]
     },
     "execution_count": 38,
     "metadata": {},
     "output_type": "execute_result"
    }
   ],
   "source": [
    "df_final = df_unido.merge(df_coordenadas, on = \"state_province\", how='inner')\n",
    "df_final.head()"
   ]
  },
  {
   "cell_type": "code",
   "execution_count": 58,
   "metadata": {},
   "outputs": [],
   "source": [
    "def mergear_tablas(df1, df2, columna):\n",
    "    \"\"\"Función que sirve para mergear tablas que tienen alguna columna en común. Recibe tres parámetros: los\n",
    "    dataframes que se quieren unir y la columna por la que se quiere realizar la unión. Este último parámetro es\n",
    "    de tipo string.\"\"\"\n",
    "    df_final = df1.merge(df2, on = columna, how= 'inner' )\n",
    "    return df_final"
   ]
  },
  {
   "cell_type": "code",
   "execution_count": 39,
   "metadata": {},
   "outputs": [],
   "source": [
    "#Creamos una lambda para aplicar a la columna que contiene una tupla y se le aplica un pd.Series para poder\n",
    "# dividir por las diferentes partes/elementos de la tupla [0] y [1]\n",
    "\n",
    "dividir_col_tupla = lambda col: pd.Series([col[0], col[1]])"
   ]
  },
  {
   "cell_type": "code",
   "execution_count": 40,
   "metadata": {},
   "outputs": [],
   "source": [
    "# Aplicamos la función lambda a la columna 'latitude_longitude' y expandimos los resultados en dos columnas\n",
    "\n",
    "df_final[['latitude', 'longitude']] = df_final['latitude_longitude'].apply(dividir_col_tupla)"
   ]
  },
  {
   "cell_type": "code",
   "execution_count": 41,
   "metadata": {},
   "outputs": [
    {
     "data": {
      "text/html": [
       "<div>\n",
       "<style scoped>\n",
       "    .dataframe tbody tr th:only-of-type {\n",
       "        vertical-align: middle;\n",
       "    }\n",
       "\n",
       "    .dataframe tbody tr th {\n",
       "        vertical-align: top;\n",
       "    }\n",
       "\n",
       "    .dataframe thead th {\n",
       "        text-align: right;\n",
       "    }\n",
       "</style>\n",
       "<table border=\"1\" class=\"dataframe\">\n",
       "  <thead>\n",
       "    <tr style=\"text-align: right;\">\n",
       "      <th></th>\n",
       "      <th>state_province</th>\n",
       "      <th>name</th>\n",
       "      <th>country</th>\n",
       "      <th>web_pages</th>\n",
       "      <th>alpha_two_code</th>\n",
       "      <th>latitude_longitude</th>\n",
       "      <th>latitude</th>\n",
       "      <th>longitude</th>\n",
       "    </tr>\n",
       "  </thead>\n",
       "  <tbody>\n",
       "    <tr>\n",
       "      <th>0</th>\n",
       "      <td>Buenos Aires</td>\n",
       "      <td>Universidad Atlantida Argentina</td>\n",
       "      <td>Argentina</td>\n",
       "      <td>http://www.atlantida.edu.ar/</td>\n",
       "      <td>AR</td>\n",
       "      <td>(-34.6075682, -58.4370894)</td>\n",
       "      <td>-34.607568</td>\n",
       "      <td>-58.437089</td>\n",
       "    </tr>\n",
       "    <tr>\n",
       "      <th>1</th>\n",
       "      <td>Buenos Aires</td>\n",
       "      <td>Universidad Austral Buenos Aires</td>\n",
       "      <td>Argentina</td>\n",
       "      <td>http://www.austral.edu.ar/</td>\n",
       "      <td>AR</td>\n",
       "      <td>(-34.6075682, -58.4370894)</td>\n",
       "      <td>-34.607568</td>\n",
       "      <td>-58.437089</td>\n",
       "    </tr>\n",
       "  </tbody>\n",
       "</table>\n",
       "</div>"
      ],
      "text/plain": [
       "  state_province                              name    country  \\\n",
       "0   Buenos Aires   Universidad Atlantida Argentina  Argentina   \n",
       "1   Buenos Aires  Universidad Austral Buenos Aires  Argentina   \n",
       "\n",
       "                      web_pages alpha_two_code          latitude_longitude  \\\n",
       "0  http://www.atlantida.edu.ar/             AR  (-34.6075682, -58.4370894)   \n",
       "1    http://www.austral.edu.ar/             AR  (-34.6075682, -58.4370894)   \n",
       "\n",
       "    latitude  longitude  \n",
       "0 -34.607568 -58.437089  \n",
       "1 -34.607568 -58.437089  "
      ]
     },
     "execution_count": 41,
     "metadata": {},
     "output_type": "execute_result"
    }
   ],
   "source": [
    "df_final.head(2)"
   ]
  },
  {
   "cell_type": "code",
   "execution_count": 42,
   "metadata": {},
   "outputs": [],
   "source": [
    "#Eliminamos la columna latitude_longitude, que es una columna tupla, ya que hemos creado dos que nacen de ella y con la misma información\n",
    "df_final.drop('latitude_longitude', axis = 1, inplace=True)"
   ]
  },
  {
   "cell_type": "code",
   "execution_count": 43,
   "metadata": {},
   "outputs": [
    {
     "data": {
      "text/html": [
       "<div>\n",
       "<style scoped>\n",
       "    .dataframe tbody tr th:only-of-type {\n",
       "        vertical-align: middle;\n",
       "    }\n",
       "\n",
       "    .dataframe tbody tr th {\n",
       "        vertical-align: top;\n",
       "    }\n",
       "\n",
       "    .dataframe thead th {\n",
       "        text-align: right;\n",
       "    }\n",
       "</style>\n",
       "<table border=\"1\" class=\"dataframe\">\n",
       "  <thead>\n",
       "    <tr style=\"text-align: right;\">\n",
       "      <th></th>\n",
       "      <th>state_province</th>\n",
       "      <th>name</th>\n",
       "      <th>country</th>\n",
       "      <th>web_pages</th>\n",
       "      <th>alpha_two_code</th>\n",
       "      <th>latitude</th>\n",
       "      <th>longitude</th>\n",
       "    </tr>\n",
       "  </thead>\n",
       "  <tbody>\n",
       "    <tr>\n",
       "      <th>0</th>\n",
       "      <td>Buenos Aires</td>\n",
       "      <td>Universidad Atlantida Argentina</td>\n",
       "      <td>Argentina</td>\n",
       "      <td>http://www.atlantida.edu.ar/</td>\n",
       "      <td>AR</td>\n",
       "      <td>-34.607568</td>\n",
       "      <td>-58.437089</td>\n",
       "    </tr>\n",
       "  </tbody>\n",
       "</table>\n",
       "</div>"
      ],
      "text/plain": [
       "  state_province                             name    country  \\\n",
       "0   Buenos Aires  Universidad Atlantida Argentina  Argentina   \n",
       "\n",
       "                      web_pages alpha_two_code   latitude  longitude  \n",
       "0  http://www.atlantida.edu.ar/             AR -34.607568 -58.437089  "
      ]
     },
     "execution_count": 43,
     "metadata": {},
     "output_type": "execute_result"
    }
   ],
   "source": [
    "df_final.head(1)\n"
   ]
  },
  {
   "attachments": {},
   "cell_type": "markdown",
   "metadata": {},
   "source": [
    "8. Crea una BBDD en mysql que contenga las siguientes tablas:\n",
    "\n",
    "- Tabla países: donde encontraremos las siguientes columnas:\n",
    "\n",
    "    - idestado: primary key, integer, autoincremental\n",
    "    - nombre_pais: varchar\n",
    "    - nombre_provincia: varchar\n",
    "    - latitud: decimal\n",
    "    - longitud: decimal\n",
    "\n",
    "\n",
    "- Tabla universidades: donde encontraremos las siguientes columnas:\n",
    "  \n",
    "    - iduniversidades: primary key, integer, autoincremental\n",
    "    - nombre_universidad: varchar\n",
    "    - pagina_web: varchar\n",
    "    - paises_idestado: foreing key "
   ]
  },
  {
   "cell_type": "code",
   "execution_count": 50,
   "metadata": {},
   "outputs": [],
   "source": [
    "def crear_bbdd(nombre_bbdd):\n",
    "\n",
    "    mydb = mysql.connector.connect(\n",
    "      host=\"localhost\",\n",
    "      user=\"root\",\n",
    "      password=\"AlumnaAdalab\", \n",
    "      auth_plugin = 'mysql_native_password') \n",
    "    print(\"Conexión realizada con éxito\")\n",
    "    \n",
    "    mycursor = mydb.cursor()\n",
    "\n",
    "    try:\n",
    "        mycursor.execute(f\"CREATE DATABASE IF NOT EXISTS {nombre_bbdd};\")\n",
    "        print(mycursor)\n",
    "    except mysql.connector.Error as err:\n",
    "        print(err)\n",
    "        print(\"Error Code:\", err.errno)\n",
    "        print(\"SQLSTATE\", err.sqlstate)\n",
    "        print(\"Message\", err.msg)"
   ]
  },
  {
   "cell_type": "code",
   "execution_count": 51,
   "metadata": {},
   "outputs": [
    {
     "name": "stdout",
     "output_type": "stream",
     "text": [
      "Conexión realizada con éxito\n",
      "CMySQLCursor: CREATE DATABASE IF NOT EXISTS universida..\n"
     ]
    }
   ],
   "source": [
    "mydb = crear_bbdd(\"universidades\")"
   ]
  },
  {
   "cell_type": "code",
   "execution_count": 52,
   "metadata": {},
   "outputs": [],
   "source": [
    "def crear_insertar_tabla(nombre_bbdd, contraseña, query):\n",
    "    \n",
    "    \n",
    "    cnx = mysql.connector.connect(user='root', password=f\"{contraseña}\",\n",
    "                                     host='127.0.0.1', database=f\"{nombre_bbdd}\",  \n",
    "                                     auth_plugin = 'mysql_native_password')\n",
    "    \n",
    "    mycursor = cnx.cursor()\n",
    "    \n",
    "    \n",
    "    try: \n",
    "        mycursor.execute(query)\n",
    "        cnx.commit() \n",
    "    \n",
    "    except mysql.connector.Error as err:\n",
    "        print(err)\n",
    "        print(\"Error Code:\", err.errno)\n",
    "        print(\"SQLSTATE\", err.sqlstate)\n",
    "        print(\"Message\", err.msg)"
   ]
  },
  {
   "cell_type": "code",
   "execution_count": 53,
   "metadata": {},
   "outputs": [],
   "source": [
    "tabla_paises = '''\n",
    "CREATE TABLE IF NOT EXISTS `universidades`.`paises` (\n",
    "  `idestado` INT NOT NULL AUTO_INCREMENT,\n",
    "  `nombre_pais` VARCHAR(45) NULL,\n",
    "  `nombre_provincia` VARCHAR(45) NULL,\n",
    "  `latitud` DECIMAL NULL,\n",
    "  `longitud` DECIMAL NULL,\n",
    "  PRIMARY KEY (`idestado`))\n",
    "ENGINE = InnoDB;\n",
    "'''"
   ]
  },
  {
   "cell_type": "code",
   "execution_count": 54,
   "metadata": {},
   "outputs": [],
   "source": [
    "tabla_universidades = '''\n",
    "CREATE TABLE IF NOT EXISTS `universidades`.`universidades` (\n",
    "  `iduniversidades` INT NOT NULL AUTO_INCREMENT,\n",
    "  `nombre_universidad` VARCHAR(45) NULL,\n",
    "  `pagina_web` VARCHAR(45) NULL,\n",
    "  `paises_idestado` INT NOT NULL,\n",
    "  PRIMARY KEY (`iduniversidades`),\n",
    "  INDEX `fk_universidades_paises_idx` (`paises_idestado` ASC) VISIBLE,\n",
    "  CONSTRAINT `fk_universidades_paises`\n",
    "    FOREIGN KEY (`paises_idestado`)\n",
    "    REFERENCES `universidades`.`paises` (`idestado`)\n",
    "    ON DELETE NO ACTION\n",
    "    ON UPDATE NO ACTION)\n",
    "ENGINE = InnoDB;\n",
    "'''"
   ]
  },
  {
   "cell_type": "code",
   "execution_count": 55,
   "metadata": {},
   "outputs": [],
   "source": [
    "crear_insertar_tabla(\"universidades\",\"AlumnaAdalab\", tabla_paises)"
   ]
  },
  {
   "cell_type": "code",
   "execution_count": 56,
   "metadata": {},
   "outputs": [],
   "source": [
    "crear_insertar_tabla(\"universidades\",\"AlumnaAdalab\", tabla_universidades)"
   ]
  },
  {
   "attachments": {},
   "cell_type": "markdown",
   "metadata": {},
   "source": [
    "9. Introduce todo el código que habéis ido creando en funciones, siguiendo la misma lógica que hemos seguido en los pairs"
   ]
  },
  {
   "cell_type": "code",
   "execution_count": null,
   "metadata": {},
   "outputs": [],
   "source": [
    "##APARECEN EXPLICADAS Y REFERENCIADAS A LO LARGO DEL JUPYTER"
   ]
  },
  {
   "attachments": {},
   "cell_type": "markdown",
   "metadata": {},
   "source": [
    "10. BONUS:\n",
    "    \n",
    "    - Introduce los datos en la BBDD de SQL.\n",
    "    - Crea una clase con todo el código generado en esta evaluación."
   ]
  },
  {
   "attachments": {},
   "cell_type": "markdown",
   "metadata": {},
   "source": [
    "- Crea clase con el código generado:"
   ]
  },
  {
   "cell_type": "code",
   "execution_count": 57,
   "metadata": {},
   "outputs": [],
   "source": [
    "class Extraccion:\n",
    "    \"\"\"\n",
    "    Clase que contiene diferentes métodos para llamar a la api y unir los diferentes dataframes\n",
    "    obtenidos de la previa llamada.\n",
    "    \"\"\"\n",
    "\n",
    "    def __init__(self):\n",
    "\n",
    "        self = self\n",
    "    \n",
    "    def llamada_api(self, pais):\n",
    "        \"\"\"Primer método que recibe como parámetro el nombre del país del que se quiere\n",
    "        obtener información de la API. El parámetro es de tipo string.\n",
    "        \"\"\"\n",
    "\n",
    "        self.pais = pais\n",
    "        \n",
    "        lista_pais = ['Argentina', 'Canada', 'United States']        \n",
    "\n",
    "        if pais not in lista_pais:\n",
    "            \n",
    "            return \"No es posible extraer información del país que solicita\"\n",
    "\n",
    "        else:\n",
    "\n",
    "            response = requests.get(f'http://universities.hipolabs.com/search?country={pais}')\n",
    "\n",
    "            response.status_code\n",
    "\n",
    "            response.reason\n",
    "\n",
    "            df_pais = pd.json_normalize(response.json())\n",
    "        \n",
    "            return df_pais\n",
    "        \n",
    "\n",
    "    def union_dataframe(self, lista_dataframes):\n",
    "        \"\"\"Segundo método que recibe como parámetro una lista de dataframes para unir.\"\"\"\n",
    "        \n",
    "        self.lista_dataframes = lista_dataframes\n",
    "        \n",
    "        df_unido = pd.concat(lista_dataframes, axis= 0, join = 'outer')\n",
    "        return df_unido"
   ]
  },
  {
   "cell_type": "code",
   "execution_count": 9,
   "metadata": {},
   "outputs": [],
   "source": [
    "class Limpieza:\n",
    "    \"\"\"Clase que tiene como objetivo la limpieza y procesado\n",
    "     de algunos cambios aplicados al dataframe\"\"\"\n",
    "    def __init__(self):\n",
    "\n",
    "        self = self\n",
    "    \n",
    "    def cambiar_guion(dataframe):\n",
    "        \"\"\"Método que permite sustituir un guion intermedio \"-\" por uno bajo \"_. Recibe un parámetro,\n",
    "    que es un dataframe.\"\"\"\n",
    "        nuevas_col = {col:col.replace(\"-\", \"_\") for col in df.columns}\n",
    "        dataframe.rename(columns = nuevas_col,inplace = True)\n",
    "        return dataframe\n",
    "    \n",
    "    def reemplazo_none(dataframe):\n",
    "        \"\"\"Método que permite reemplazar los elementos None por Nan.Recibe como parámetro el dataframe\n",
    "    sobre el que se quieren aplicar los cambios.\"\"\"\n",
    "        dataframe = dataframe.fillna(value = np.nan, axis=1)\n",
    "        return dataframe \n",
    "    \n",
    "    def reemplazo_desconocido(dataframe, columna):\n",
    "        \"\"\"Método que permite sustituir los Nan por el string \"Unknown\". Recibe dos parámetros: \n",
    "    el dataframe y la columna sobre la que se quiere realizar el cambio. \"\"\"\n",
    "        dataframe[columna].fillna(\"Unkwnon\", inplace=True)\n",
    "        return dataframe\n",
    "    \n",
    "    def cambiar_estado(dataframe, columna, diccionario):\n",
    "        \"\"\"Método que tiene como objetivo reemplazar los valores únicos de una columna. Recibe tres parámetros:\n",
    "    el dataframe, la columna sobre la que se quieren cambiar los valores y el diccionario con los nuevos valores asignados.\"\"\"\n",
    "        dataframe[columna]=dataframe[columna].map(diccionario)\n",
    "        dataframe[columna].replace(np.nan, \"Unkwnon\", inplace=True)\n",
    "        return dataframe\n",
    "    \n",
    "    def obtener_coordenadas(lista_unicos_provincia):\n",
    "        \"\"\"Método que permite obtener las coordenadas de latitud y longitud de cualquier lugar que se le pase.\n",
    "    Recibe un parámetro, que es una lista con lugares, sitios, localizaciones.\"\"\"\n",
    "        lista_coordenadas = []\n",
    "        geolocator = Nominatim(user_agent=\"mi_usuario\")\n",
    "        \n",
    "        for provincia in lista_unicos_provincia:\n",
    "            if provincia == \"Unkwnon\":\n",
    "                lista_coordenadas.append((\"Unkwnon\", \"Unkwnon\"))\n",
    "            else:\n",
    "                ubicacion = geolocator.geocode(provincia)\n",
    "                coordenadas = (ubicacion.latitude, ubicacion.longitude)\n",
    "                lista_coordenadas.append(coordenadas)\n",
    "        return lista_coordenadas\n",
    "    \n",
    "    def mergear_tablas(dataframe1, dataframe2, columna):\n",
    "        \"\"\"Método que sirve para mergear tablas que tienen alguna columna en común. Recibe tres parámetros: los\n",
    "    dataframes que se quieren unir y la columna por la que se quiere realizar la unión. Este último parámetro es\n",
    "    de tipo string.\"\"\"\n",
    "        df_final = dataframe1.merge(dataframe2, on = columna, how= 'inner' )\n",
    "        return df_final"
   ]
  },
  {
   "cell_type": "code",
   "execution_count": 146,
   "metadata": {},
   "outputs": [],
   "source": [
    "class Bbdd():\n",
    "        \"\"\"Clase que cuenta con métodos enfocados en la creación de BBDD, creación de tablas e \n",
    "        inserción de datos en la misma, así como diferentes métodos para poder extraer los id que son clave foránea\n",
    "        y que la inserción de los datos se realice satisfactoriamente.\"\"\"\n",
    "\n",
    "        def __init__(self, nombre_bbdd, contraseña):\n",
    "                \n",
    "                \"\"\"Método constructor, que va a recibir dos parámetros que son fijos a lo largo de toda la BBDD,\n",
    "          el nombre de la BBDD y la contraseña con el servidor.\"\"\"\n",
    "        \n",
    "                self.nombre_bbdd = nombre_bbdd\n",
    "                self.contraseña = contraseña\n",
    "\n",
    "\n",
    "        def crear_bbdd(self):\n",
    "         \n",
    "         \"\"\"Primer método. Sirve para crear la BBDD. No recibe parámetros\"\"\"\n",
    "\n",
    "                mydb = mysql.connector.connect(\n",
    "                                        host=\"localhost\",\n",
    "                                        user=\"root\",\n",
    "                                        password=\"AlumnaAdalab\", \n",
    "                                        auth_plugin = 'mysql_native_password') \n",
    "                print(\"Conexión realizada con éxito\")\n",
    "                \n",
    "                mycursor = mydb.cursor()\n",
    "\n",
    "                try:\n",
    "                        mycursor.execute(f\"CREATE DATABASE IF NOT EXISTS {self.nombre_bbdd};\")\n",
    "                        print(mycursor)\n",
    "                except mysql.connector.Error as err:\n",
    "                        print(err)\n",
    "                        print(\"Error Code:\", err.errno)\n",
    "                        print(\"SQLSTATE\", err.sqlstate)\n",
    "                        print(\"Message\", err.msg)\n",
    "                        \n",
    "\n",
    "        def crear_insertar_tabla(self, query):\n",
    "\n",
    "                \"\"\"\"Segundo método. Tiene como objetivo la creación de tabla, así como la inserción de datos en la misma.\n",
    "                Recibe un parámetro, la query que queramos realizar, sea de creación o de inserción.\n",
    "                \"\"\"\n",
    "\n",
    "                self.query = query\n",
    "    \n",
    "                cnx = mysql.connector.connect(user='root', password=f\"{self.contraseña}\",\n",
    "                                                host='127.0.0.1', database=f\"{self.nombre_bbdd}\",  \n",
    "                                                auth_plugin = 'mysql_native_password')\n",
    "                \n",
    "                mycursor = cnx.cursor()\n",
    "                \n",
    "                \n",
    "                try: \n",
    "                        mycursor.execute(query)\n",
    "                        cnx.commit() \n",
    "                \n",
    "                except mysql.connector.Error as err:\n",
    "                        print(err)\n",
    "                        print(\"Error Code:\", err.errno)\n",
    "                        print(\"SQLSTATE\", err.sqlstate)\n",
    "                        print(\"Message\", err.msg)\n",
    "\n",
    "\n",
    "        def check_paises(self):\n",
    "\n",
    "                \"\"\"Tercer método. Tiene como objetivo verificar que ya hay países en la tabla antes de insertar.\n",
    "                No recibe parámetros.\"\"\"\n",
    "        \n",
    "                mydb = mysql.connector.connect(user='root',\n",
    "                                        password=f\"{self.contraseña}\",\n",
    "                                        host='127.0.0.1',\n",
    "                                        database=f\"{self.nombre_bbdd}\")\n",
    "                mycursor = mydb.cursor()\n",
    "\n",
    "                # query para extraer los valores únicos de ciudades de la tabla de paises \n",
    "                query_existe_pais = f\"\"\"\n",
    "                        SELECT DISTINCT nombre_pais FROM paises\n",
    "                        \"\"\"\n",
    "                mycursor.execute(query_existe_pais)\n",
    "                paises = mycursor.fetchall()\n",
    "                return paises\n",
    "\n",
    "        def sacar_id_pais(self, pais):\n",
    "\n",
    "                \"\"\"Cuarto método. Sirve para obtener el id de país para poder utilizarlo en la inserción de la segunda tabla,\n",
    "                donde id pais es FK. Tiene un parámetro, que es de tipo string y correponde con el nombre del país del cual se\n",
    "                quiere obtener el id.\"\"\"\n",
    "\n",
    "                self.pais = pais\n",
    "\n",
    "                mydb = mysql.connector.connect(user='root',\n",
    "                                        password= f'{self.contraseña}',\n",
    "                                        host='127.0.0.1', \n",
    "                                        database=f\"{self.nombre_bbdd}\")\n",
    "                mycursor = mydb.cursor()\n",
    "                \n",
    "                try:\n",
    "                        query_sacar_id_pais = f\"SELECT idestado FROM paises WHERE nombre_pais = '{pais}'\"\n",
    "                        mycursor.execute(query_sacar_id_pais)\n",
    "                        id_pais = mycursor.fetchall()[0][0]\n",
    "                        return id_pais\n",
    "                \n",
    "                except: \n",
    "                        return \"Lo sentimos, no tenemos ese país en la BBDD y por lo tanto no te podemos facilitar su id.\" \n",
    "\n",
    "\n",
    "        def sacar_id_universidad(self,nombre_universidad):\n",
    "                 \n",
    "                \"\"\"Quinto método. Sirve para obtener el id de la universidad. Recibe un parámetro: el nombre de la\n",
    "                universidad, que es de tipo string.\"\"\"\n",
    "                 \n",
    "                self.nombre_universidad = nombre_universidad\n",
    "\n",
    "                mydb = mysql.connector.connect(user='root', password=f'{self.contraseña}',\n",
    "                                                host='127.0.0.1', database=f\"{self.nombre_bbdd}\")\n",
    "                mycursor = mydb.cursor()\n",
    "\n",
    "                try:\n",
    "                        query_sacar_id_uni = f\"SELECT iduniversidades FROM universidades WHERE nombre_universidad = '{nombre_universidad}'\"\n",
    "                        mycursor.execute(query_sacar_id_uni)\n",
    "                        id_uni = mycursor.fetchall()[0][0]\n",
    "                        return id_uni\n",
    "                \n",
    "                except: \n",
    "                        return \"Lo sentimos, no tenemos esa universidad en la BBDD y por lo tanto no te podemos facilitar su id.\" "
   ]
  },
  {
   "attachments": {},
   "cell_type": "markdown",
   "metadata": {},
   "source": [
    "- Introduce los datos en la BBDD de SQL.\n"
   ]
  },
  {
   "cell_type": "code",
   "execution_count": null,
   "metadata": {},
   "outputs": [],
   "source": [
    "carga = Bbdd(\"universidades\", \"AlumnaAdalab\")"
   ]
  },
  {
   "cell_type": "code",
   "execution_count": null,
   "metadata": {},
   "outputs": [],
   "source": [
    "for indice, fila in df_final.iterrows():\n",
    "      \n",
    "    query_pais = f\"\"\"\n",
    "                INSERT INTO paises (nombre_pais, nombre_provincia, latitud, longitud) \n",
    "                VALUES (\"{fila[\"country\"]}\", \"{fila['state_province']}\", \"{fila['latitude']}\",\"{fila['longitude']}\");\n",
    "                \"\"\"\n",
    "    carga.crear_insertar_tabla(query_pais)"
   ]
  },
  {
   "cell_type": "code",
   "execution_count": null,
   "metadata": {},
   "outputs": [],
   "source": [
    "# tabla universidades, pero con idestado_pais\n",
    "\n",
    "for indice, fila in df_final.iterrows():\n",
    "    \n",
    "    id_pais = carga.sacar_id_pais(fila['paises'])\n",
    "\n",
    "    \n",
    "    query_universidades = f\"\"\"\n",
    "                INSERT INTO universidades (nombre_universidad, pagina_web, paises_idestado) \n",
    "                VALUES (\"{fila[\"name\"]}\", \"{fila['web_pages']}\",\"{id_pais}\");\n",
    "                \"\"\"\n",
    "    carga.crear_insertar_tabla(query_universidades)"
   ]
  },
  {
   "cell_type": "code",
   "execution_count": null,
   "metadata": {},
   "outputs": [],
   "source": [
    "# NO HE PODIDO LLEGAR A INSERTAR LOS DATOS YA QUE TENÍA QUE HACER CONVERSIONES DE TIPO DE DATOS PARA ELLO \n",
    "# O INCLUSO VOLVER A REHACER LOS PROCESOS CON \"UNKNOWN\""
   ]
  },
  {
   "cell_type": "code",
   "execution_count": null,
   "metadata": {},
   "outputs": [],
   "source": []
  }
 ],
 "metadata": {
  "kernelspec": {
   "display_name": "adalabenv",
   "language": "python",
   "name": "python3"
  },
  "language_info": {
   "codemirror_mode": {
    "name": "ipython",
    "version": 3
   },
   "file_extension": ".py",
   "mimetype": "text/x-python",
   "name": "python",
   "nbconvert_exporter": "python",
   "pygments_lexer": "ipython3",
   "version": "3.10.9"
  },
  "orig_nbformat": 4,
  "vscode": {
   "interpreter": {
    "hash": "0b8bbabd87d3ce636409443d1398e5656bf795e33c753b5e821c4b969f4e6c41"
   }
  }
 },
 "nbformat": 4,
 "nbformat_minor": 2
}
